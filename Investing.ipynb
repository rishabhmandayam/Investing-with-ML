{
 "cells": [
  {
   "cell_type": "code",
   "execution_count": 1,
   "metadata": {},
   "outputs": [],
   "source": [
    "#libraries\n",
    "import pandas as pd\n",
    "import os\n",
    "import time\n",
    "from datetime import datetime\n",
    "\n",
    "from time import mktime\n",
    "import matplotlib\n",
    "import matplotlib.pyplot as plt"
   ]
  },
  {
   "cell_type": "code",
   "execution_count": 2,
   "metadata": {},
   "outputs": [],
   "source": [
    "from matplotlib import style\n",
    "style.use(\"dark_background\")\n",
    "\n",
    "import re"
   ]
  },
  {
   "cell_type": "code",
   "execution_count": 3,
   "metadata": {},
   "outputs": [],
   "source": [
    "path=r\"C:\\Users\\Rishabh.Rishabh-PC\\Downloads\\intraQuarter\\intraQuarter\""
   ]
  },
  {
   "cell_type": "code",
   "execution_count": 4,
   "metadata": {},
   "outputs": [],
   "source": [
    "def Key_Stats(gather=\"Total Debt/Equity (mrq)\"):\n",
    "    statspath = path+'/_KeyStats'\n",
    "    stock_list = [x[0] for x in os.walk(statspath)]\n",
    "    df = pd.DataFrame(columns = ['Date',\n",
    "                                 'Unix',\n",
    "                                 'Ticker',\n",
    "                                 'DE Ratio',\n",
    "                                 'Price',\n",
    "                                 'stock_p_change',\n",
    "                                 'SP500',\n",
    "                                 'sp500_p_change',\n",
    "                                 'Difference'])\n",
    "    \n",
    "    sp500_df = pd.DataFrame.from_csv(\"YAHOO-INDEX_GSPC.csv\")\n",
    "    ticker_list =[]\n",
    "    for each_dir in stock_list[1:25]:\n",
    "        each_file = os.listdir(each_dir)\n",
    "        ticker = each_dir.split(\"\\\\\")[6]\n",
    "        ticker_list.append(ticker)\n",
    "        \n",
    "        starting_stock_value = False\n",
    "        starting_sp500_value = False\n",
    "        \n",
    "        if len(each_file) > 0:\n",
    "            for file in each_file:\n",
    "                date_stamp = datetime.strptime(file, '%Y%m%d%H%M%S.html')\n",
    "                unix_time = time.mktime(date_stamp.timetuple())\n",
    "                #print(date_stamp, unix_time) \n",
    "                full_file_path = each_dir+'/'+file\n",
    "                #print(full_file_path)\n",
    "                source = open(full_file_path,'r').read()\n",
    "                #print(source)\n",
    "                try:\n",
    "                    try:\n",
    "                        value = float(source.split(gather+':</td><td class=\"yfnc_tabledata1\">')[1].split('</td>')[0])\n",
    "                    except Exception as e:\n",
    "                        \n",
    "                        value = float(source.split(gather+':</td>\\n<td class=\"yfnc_tabledata1\">')[1].split('</td>')[0])\n",
    "                        print(str(e),ticker, file)\n",
    "                        #time.sleep(15)\n",
    "                    try:\n",
    "                        sp500_date = datetime.fromtimestamp(unix_time).strftime(\"%Y-%m-%d\")\n",
    "                        row = sp500_df[(sp500_df.index == sp500_date)]\n",
    "                        sp500_value = float(row[\"Adj Close\"])\n",
    "                    except:\n",
    "                        sp500_date = datetime.fromtimestamp(unix_time-259200).strftime(\"%Y-%m-%d\")\n",
    "                        row = sp500_df[(sp500_df.index == sp500_date)]\n",
    "                        sp500_value = float(row[\"Adj Close\"])\n",
    "                        \n",
    "                    stock_price = float(source.split('</small><big><b>')[1].split('</b></big>')[0])\n",
    "                    #print(\"stock_price:\",stock_price,\"ticker:\",ticker)\n",
    "                    \n",
    "                    if not starting_stock_value:\n",
    "                        starting_stock_value = stock_price\n",
    "                        \n",
    "                    if not starting_sp500_value:\n",
    "                        starting_sp500_value = sp500_value   \n",
    "                        \n",
    "                    stock_p_change = ((stock_price - starting_stock_value) / staring_stock_value) * 100\n",
    "                    sp500_p_change = ((sp500_price - starting_sp500_value) / staring_sp500_value) * 100\n",
    "\n",
    "                    \n",
    "                    \n",
    "                    \n",
    "                    \n",
    "                    df = df.append({'Date': date_stamp,\n",
    "                                    'Unix': unix_time,\n",
    "                                    'Ticker':ticker,\n",
    "                                    'DE Ratio':value,\n",
    "                                    'Price':stock_price,\n",
    "                                    'stock_p_change':stock_p_change,\n",
    "                                    'SP500':sp500_value,\n",
    "                                   'sp500_p_change':sp500_p_change}, ignore_index = True )\n",
    "                except Exception as e:\n",
    "                    pass\n",
    "                    #print(str(e))\n",
    "                    \n",
    "    for each_ticker in ticker_list:\n",
    "        try:\n",
    "            plot_df = df[(df['Ticker'] == each_ticker)]\n",
    "            plot_df = plot_def.set_index(['Date'])\n",
    "            \n",
    "            plot_df['Difference'].plot(label=each_ticker)\n",
    "            plt.legend()\n",
    "        except:\n",
    "            pass\n",
    "    \n",
    "    plt.show()\n",
    "    \n",
    "    save = gather.replace(' ','').replace(')','').replace('(','').replace('/','')+str('.csv')\n",
    "    print(save)\n",
    "    df.to_csv(save)"
   ]
  },
  {
   "cell_type": "code",
   "execution_count": 5,
   "metadata": {
    "scrolled": true
   },
   "outputs": [
    {
     "name": "stderr",
     "output_type": "stream",
     "text": [
      "C:\\Users\\Rishabh.Rishabh-PC\\Anaconda3\\lib\\site-packages\\ipykernel_launcher.py:14: FutureWarning: from_csv is deprecated. Please use read_csv(...) instead. Note that some of the default arguments are different, so please refer to the documentation for from_csv when changing your function calls\n",
      "  \n"
     ]
    },
    {
     "name": "stdout",
     "output_type": "stream",
     "text": [
      "list index out of range aapl 20060203134959.html\n",
      "list index out of range aapl 20060207091730.html\n",
      "list index out of range aapl 20060217150101.html\n",
      "list index out of range adbe 20060221131821.html\n",
      "list index out of range adbe 20060407103637.html\n",
      "list index out of range adm 20060406185348.html\n",
      "list index out of range adm 20060407065349.html\n",
      "list index out of range adm 20060412005821.html\n",
      "list index out of range adm 20060422193052.html\n",
      "list index out of range adm 20060423141744.html\n",
      "list index out of range adm 20060424194942.html\n",
      "list index out of range adm 20060428063041.html\n",
      "list index out of range adm 20060516142700.html\n",
      "list index out of range aet 20060507113424.html\n",
      "list index out of range afl 20060202011650.html\n",
      "TotalDebtEquitymrq.csv\n"
     ]
    }
   ],
   "source": [
    "Key_Stats()"
   ]
  },
  {
   "cell_type": "code",
   "execution_count": null,
   "metadata": {},
   "outputs": [],
   "source": []
  },
  {
   "cell_type": "code",
   "execution_count": null,
   "metadata": {},
   "outputs": [],
   "source": []
  },
  {
   "cell_type": "code",
   "execution_count": null,
   "metadata": {},
   "outputs": [],
   "source": []
  },
  {
   "cell_type": "code",
   "execution_count": null,
   "metadata": {},
   "outputs": [],
   "source": []
  }
 ],
 "metadata": {
  "kernelspec": {
   "display_name": "Python 3",
   "language": "python",
   "name": "python3"
  },
  "language_info": {
   "codemirror_mode": {
    "name": "ipython",
    "version": 3
   },
   "file_extension": ".py",
   "mimetype": "text/x-python",
   "name": "python",
   "nbconvert_exporter": "python",
   "pygments_lexer": "ipython3",
   "version": "3.6.5"
  }
 },
 "nbformat": 4,
 "nbformat_minor": 2
}
